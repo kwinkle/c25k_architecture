{
 "cells": [
  {
   "cell_type": "code",
   "execution_count": 1,
   "metadata": {},
   "outputs": [
    {
     "ename": "SyntaxError",
     "evalue": "invalid syntax (core.py, line 153)",
     "output_type": "error",
     "traceback": [
      "\u001b[0;36m  File \u001b[0;32m\"/usr/lib/python2.7/dist-packages/nose/core.py\"\u001b[0;36m, line \u001b[0;32m153\u001b[0m\n\u001b[0;31m    print \"%s version %s\" % (os.path.basename(sys.argv[0]), __version__)\u001b[0m\n\u001b[0m                        ^\u001b[0m\n\u001b[0;31mSyntaxError\u001b[0m\u001b[0;31m:\u001b[0m invalid syntax\n"
     ]
    }
   ],
   "source": [
    "import sys\n",
    "sys.path.append(\"/usr/lib/python2.7/dist-packages\")\n",
    "\n",
    "import pandas as pd\n",
    "import numpy as np\n",
    "import csv\n",
    "\n",
    "#from knnlearner import KNNLearner\n",
    "from mlplearner import MLPLearner\n",
    "from itertools import permutations \n",
    "from _5_c25klearner import C25KLearner\n",
    "from c25k_msgs.msg import C25KAction, C25KActionType, C25KActionStyle, C25KTraining, C25KState, ValidatedC25KAction"
   ]
  }
 ],
 "metadata": {
  "kernelspec": {
   "display_name": "Python 2",
   "language": "python",
   "name": "python2"
  },
  "language_info": {
   "codemirror_mode": {
    "name": "ipython",
    "version": 3
   },
   "file_extension": ".py",
   "mimetype": "text/x-python",
   "name": "python",
   "nbconvert_exporter": "python",
   "pygments_lexer": "ipython3",
   "version": "3.6.8"
  }
 },
 "nbformat": 4,
 "nbformat_minor": 2
}
