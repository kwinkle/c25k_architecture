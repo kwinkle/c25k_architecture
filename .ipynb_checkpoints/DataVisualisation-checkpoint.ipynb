{
 "cells": [
  {
   "cell_type": "code",
   "execution_count": 22,
   "metadata": {},
   "outputs": [
    {
     "name": "stdout",
     "output_type": "stream",
     "text": [
      "      timestamp                              state_id user_id condition  \\\n",
      "0  1.560767e+09  bf1cb5d0-74dc-4d2f-ab07-bbb3edf12734      LB   CONTROL   \n",
      "1  1.560767e+09  837c39bd-33ce-4e52-b371-a673a190a303      LB   CONTROL   \n",
      "2  1.560767e+09  73125210-d8d4-4843-aa90-7cbd3904f333      LB   CONTROL   \n",
      "3  1.560767e+09  69908810-1f19-4b7d-8025-3b5fd5918318      LB   CONTROL   \n",
      "4  1.560767e+09  f441240d-3819-423c-bad7-12e4c9078d79      LB   CONTROL   \n",
      "\n",
      "   self_attitude  expert_attitude  extraversion  agreeableness  \\\n",
      "0            1.0              1.0          0.93           0.93   \n",
      "1            1.0              1.0          0.93           0.93   \n",
      "2            1.0              1.0          0.93           0.93   \n",
      "3            1.0              1.0          0.93           0.93   \n",
      "4            1.0              1.0          0.93           0.93   \n",
      "\n",
      "   conscientiousness  emotional_stability  ...  \\\n",
      "0               0.86                 0.79  ...   \n",
      "1               0.86                 0.79  ...   \n",
      "2               0.86                 0.79  ...   \n",
      "3               0.86                 0.79  ...   \n",
      "4               0.86                 0.79  ...   \n",
      "\n",
      "   normalised_time_since_last_action  heart_rate  relative_heart_rate  \\\n",
      "0                                1.0         102                  0.0   \n",
      "1                                1.0         102                  0.0   \n",
      "2                                1.0         102                  0.0   \n",
      "3                                1.0         102                  0.0   \n",
      "4                                1.0         102                  0.0   \n",
      "\n",
      "       au12      au25  mood  user_run_pb  user_walk_pb  user_run_avg  \\\n",
      "0  0.165514  0.345810   0.5          4.5           3.0           4.5   \n",
      "1  0.201940  0.449062   0.5          4.5           3.0           4.5   \n",
      "2  0.137995  0.211494   0.5          4.5           3.0           4.5   \n",
      "3  0.000000  0.116334   0.5          4.5           3.0           4.5   \n",
      "4  0.321820  0.240196   0.5          4.5           3.0           4.5   \n",
      "\n",
      "   user_walk_avg  \n",
      "0            3.0  \n",
      "1            3.0  \n",
      "2            3.0  \n",
      "3            3.0  \n",
      "4            3.0  \n",
      "\n",
      "[5 rows x 38 columns]\n"
     ]
    }
   ],
   "source": [
    "import pandas as pd\n",
    "import matplotlib\n",
    "%matplotlib inline\n",
    "\n",
    "state_log_df = pd.read_csv('state_logger.csv', names=['timestamp','state_id','user_id','condition','self_attitude','expert_attitude','extraversion',\\\n",
    "\t'agreeableness','conscientiousness','emotional_stability','openness_experience','activity_level','session_number','programme_state','task_success','session_time',\\\n",
    "\t'session_time_remaining','normalised_session_time','programme_time','normalised_programme_time','time_spent_prog_action','time_remain_prog_action',\\\n",
    "\t'prog_action_progress','prog_action_duration','speed','relative_speed_average','relative_speed_best','time_since_last_action','normalised_time_since_last_action',\\\n",
    "\t'heart_rate','relative_heart_rate','au12','au25','mood','user_run_pb','user_walk_pb','user_run_avg','user_walk_avg'])\n",
    "\n",
    "print state_log_df.head()"
   ]
  },
  {
   "cell_type": "code",
   "execution_count": 2,
   "metadata": {},
   "outputs": [
    {
     "name": "stdout",
     "output_type": "stream",
     "text": [
      "(62483, 38)\n"
     ]
    }
   ],
   "source": [
    "print state_log_df.shape"
   ]
  },
  {
   "cell_type": "code",
   "execution_count": 5,
   "metadata": {},
   "outputs": [
    {
     "data": {
      "text/plain": [
       "array([[<matplotlib.axes._subplots.AxesSubplot object at 0x7f7551b2a750>]],\n",
       "      dtype=object)"
      ]
     },
     "execution_count": 5,
     "metadata": {},
     "output_type": "execute_result"
    },
    {
     "data": {
      "image/png": "[encoded data removed]",
      "text/plain": [
       "<Figure size 432x288 with 1 Axes>"
      ]
     },
     "metadata": {
      "needs_background": "light"
     },
     "output_type": "display_data"
    }
   ],
   "source": [
    "state_log_df.hist(column=\"self_attitude\")"
   ]
  },
  {
   "cell_type": "code",
   "execution_count": 6,
   "metadata": {},
   "outputs": [
    {
     "data": {
      "text/plain": [
       "array([[<matplotlib.axes._subplots.AxesSubplot object at 0x7f755c40b110>]],\n",
       "      dtype=object)"
      ]
     },
     "execution_count": 6,
     "metadata": {},
     "output_type": "execute_result"
    },
    {
     "data": {
      "image/png": "[encoded data removed]",
      "text/plain": [
       "<Figure size 432x288 with 1 Axes>"
      ]
     },
     "metadata": {
      "needs_background": "light"
     },
     "output_type": "display_data"
    }
   ],
   "source": [
    "state_log_df.hist(column=\"expert_attitude\")"
   ]
  },
  {
   "cell_type": "code",
   "execution_count": 7,
   "metadata": {},
   "outputs": [
    {
     "data": {
      "text/plain": [
       "array([[<matplotlib.axes._subplots.AxesSubplot object at 0x7f7551b2a110>]],\n",
       "      dtype=object)"
      ]
     },
     "execution_count": 7,
     "metadata": {},
     "output_type": "execute_result"
    },
    {
     "data": {
      "image/png": "[encoded data removed]",
      "text/plain": [
       "<Figure size 432x288 with 1 Axes>"
      ]
     },
     "metadata": {
      "needs_background": "light"
     },
     "output_type": "display_data"
    }
   ],
   "source": [
    "state_log_df.hist(column=\"extraversion\")"
   ]
  },
  {
   "cell_type": "code",
   "execution_count": 9,
   "metadata": {},
   "outputs": [
    {
     "data": {
      "text/plain": [
       "array([[<matplotlib.axes._subplots.AxesSubplot object at 0x7f755c31e810>]],\n",
       "      dtype=object)"
      ]
     },
     "execution_count": 9,
     "metadata": {},
     "output_type": "execute_result"
    },
    {
     "data": {
      "image/png": "[encoded data removed]",
      "text/plain": [
       "<Figure size 432x288 with 1 Axes>"
      ]
     },
     "metadata": {
      "needs_background": "light"
     },
     "output_type": "display_data"
    }
   ],
   "source": [
    "state_log_df.hist(column=\"agreeableness\")"
   ]
  },
  {
   "cell_type": "code",
   "execution_count": 3,
   "metadata": {},
   "outputs": [
    {
     "data": {
      "text/plain": [
       "array([[<matplotlib.axes._subplots.AxesSubplot object at 0x7f1e20b74fd0>]],\n",
       "      dtype=object)"
      ]
     },
     "execution_count": 3,
     "metadata": {},
     "output_type": "execute_result"
    },
    {
     "data": {
      "image/png": "[encoded data removed]",
      "text/plain": [
       "<Figure size 432x288 with 1 Axes>"
      ]
     },
     "metadata": {
      "needs_background": "light"
     },
     "output_type": "display_data"
    }
   ],
   "source": [
    "state_log_df.hist(column=\"conscientiousness\")"
   ]
  },
  {
   "cell_type": "code",
   "execution_count": 4,
   "metadata": {},
   "outputs": [
    {
     "data": {
      "text/plain": [
       "array([[<matplotlib.axes._subplots.AxesSubplot object at 0x7f1df1408a50>]],\n",
       "      dtype=object)"
      ]
     },
     "execution_count": 4,
     "metadata": {},
     "output_type": "execute_result"
    },
    {
     "data": {
      "image/png": "[encoded data removed]",
      "text/plain": [
       "<Figure size 432x288 with 1 Axes>"
      ]
     },
     "metadata": {
      "needs_background": "light"
     },
     "output_type": "display_data"
    }
   ],
   "source": [
    "state_log_df.hist(column=\"emotional_stability\")"
   ]
  },
  {
   "cell_type": "code",
   "execution_count": 8,
   "metadata": {},
   "outputs": [
    {
     "data": {
      "text/plain": [
       "array([[<matplotlib.axes._subplots.AxesSubplot object at 0x7f1df110d0d0>]],\n",
       "      dtype=object)"
      ]
     },
     "execution_count": 8,
     "metadata": {},
     "output_type": "execute_result"
    },
    {
     "data": {
      "image/png": "[encoded data removed]",
      "text/plain": [
       "<Figure size 432x288 with 1 Axes>"
      ]
     },
     "metadata": {
      "needs_background": "light"
     },
     "output_type": "display_data"
    }
   ],
   "source": [
    "state_log_df.hist(column=\"openness_experience\")"
   ]
  },
  {
   "cell_type": "code",
   "execution_count": 9,
   "metadata": {},
   "outputs": [
    {
     "data": {
      "text/plain": [
       "array([[<matplotlib.axes._subplots.AxesSubplot object at 0x7f1df1217fd0>]],\n",
       "      dtype=object)"
      ]
     },
     "execution_count": 9,
     "metadata": {},
     "output_type": "execute_result"
    },
    {
     "data": {
      "image/png": "[encoded data removed]",
      "text/plain": [
       "<Figure size 432x288 with 1 Axes>"
      ]
     },
     "metadata": {
      "needs_background": "light"
     },
     "output_type": "display_data"
    }
   ],
   "source": [
    "state_log_df.hist(column=\"activity_level\")"
   ]
  },
  {
   "cell_type": "code",
   "execution_count": 10,
   "metadata": {},
   "outputs": [
    {
     "data": {
      "text/plain": [
       "array([[<matplotlib.axes._subplots.AxesSubplot object at 0x7f1df11253d0>]],\n",
       "      dtype=object)"
      ]
     },
     "execution_count": 10,
     "metadata": {},
     "output_type": "execute_result"
    },
    {
     "data": {
      "image/png": "[encoded data removed]",
      "text/plain": [
       "<Figure size 432x288 with 1 Axes>"
      ]
     },
     "metadata": {
      "needs_background": "light"
     },
     "output_type": "display_data"
    }
   ],
   "source": [
    "state_log_df.hist(column=\"programme_state\")"
   ]
  },
  {
   "cell_type": "code",
   "execution_count": 11,
   "metadata": {},
   "outputs": [
    {
     "data": {
      "text/plain": [
       "array([[<matplotlib.axes._subplots.AxesSubplot object at 0x7f1df1102990>]],\n",
       "      dtype=object)"
      ]
     },
     "execution_count": 11,
     "metadata": {},
     "output_type": "execute_result"
    },
    {
     "data": {
      "image/png": "[encoded data removed]",
      "text/plain": [
       "<Figure size 432x288 with 1 Axes>"
      ]
     },
     "metadata": {
      "needs_background": "light"
     },
     "output_type": "display_data"
    }
   ],
   "source": [
    "state_log_df.hist(column=\"normalised_session_time\")"
   ]
  },
  {
   "cell_type": "code",
   "execution_count": 12,
   "metadata": {},
   "outputs": [
    {
     "data": {
      "text/plain": [
       "array([[<matplotlib.axes._subplots.AxesSubplot object at 0x7f1df106fc50>]],\n",
       "      dtype=object)"
      ]
     },
     "execution_count": 12,
     "metadata": {},
     "output_type": "execute_result"
    },
    {
     "data": {
      "image/png": "[encoded data removed]",
      "text/plain": [
       "<Figure size 432x288 with 1 Axes>"
      ]
     },
     "metadata": {
      "needs_background": "light"
     },
     "output_type": "display_data"
    }
   ],
   "source": [
    "state_log_df.hist(column=\"normalised_programme_time\")"
   ]
  },
  {
   "cell_type": "code",
   "execution_count": 14,
   "metadata": {},
   "outputs": [
    {
     "data": {
      "text/plain": [
       "array([[<matplotlib.axes._subplots.AxesSubplot object at 0x7f1df1043650>]],\n",
       "      dtype=object)"
      ]
     },
     "execution_count": 14,
     "metadata": {},
     "output_type": "execute_result"
    },
    {
     "data": {
      "image/png": "[encoded data removed]",
      "text/plain": [
       "<Figure size 432x288 with 1 Axes>"
      ]
     },
     "metadata": {
      "needs_background": "light"
     },
     "output_type": "display_data"
    }
   ],
   "source": [
    "state_log_df.hist(column=\"prog_action_progress\")"
   ]
  },
  {
   "cell_type": "code",
   "execution_count": 26,
   "metadata": {},
   "outputs": [
    {
     "data": {
      "text/plain": [
       "array([[<matplotlib.axes._subplots.AxesSubplot object at 0x7f1df0c62dd0>]],\n",
       "      dtype=object)"
      ]
     },
     "execution_count": 26,
     "metadata": {},
     "output_type": "execute_result"
    },
    {
     "data": {
      "image/png": "[encoded data removed]",
      "text/plain": [
       "<Figure size 432x288 with 1 Axes>"
      ]
     },
     "metadata": {
      "needs_background": "light"
     },
     "output_type": "display_data"
    }
   ],
   "source": [
    "state_log_df.hist(column=\"prog_action_duration\")"
   ]
  },
  {
   "cell_type": "code",
   "execution_count": 17,
   "metadata": {},
   "outputs": [
    {
     "data": {
      "text/plain": [
       "array([[<matplotlib.axes._subplots.AxesSubplot object at 0x7f1df39e6210>]],\n",
       "      dtype=object)"
      ]
     },
     "execution_count": 17,
     "metadata": {},
     "output_type": "execute_result"
    },
    {
     "data": {
      "image/png": "[encoded data removed]",
      "text/plain": [
       "<Figure size 432x288 with 1 Axes>"
      ]
     },
     "metadata": {
      "needs_background": "light"
     },
     "output_type": "display_data"
    }
   ],
   "source": [
    "state_log_df.hist(column=\"relative_speed_average\")"
   ]
  },
  {
   "cell_type": "code",
   "execution_count": 25,
   "metadata": {},
   "outputs": [
    {
     "data": {
      "text/plain": [
       "array([[<matplotlib.axes._subplots.AxesSubplot object at 0x7f1df0bdd450>]],\n",
       "      dtype=object)"
      ]
     },
     "execution_count": 25,
     "metadata": {},
     "output_type": "execute_result"
    },
    {
     "data": {
      "image/png": "[encoded data removed]",
      "text/plain": [
       "<Figure size 432x288 with 1 Axes>"
      ]
     },
     "metadata": {
      "needs_background": "light"
     },
     "output_type": "display_data"
    }
   ],
   "source": [
    "state_log_df.hist(column=\"relative_speed_best\")"
   ]
  },
  {
   "cell_type": "code",
   "execution_count": 18,
   "metadata": {},
   "outputs": [
    {
     "data": {
      "text/plain": [
       "array([[<matplotlib.axes._subplots.AxesSubplot object at 0x7f1df1102310>]],\n",
       "      dtype=object)"
      ]
     },
     "execution_count": 18,
     "metadata": {},
     "output_type": "execute_result"
    },
    {
     "data": {
      "image/png": "[encoded data removed]",
      "text/plain": [
       "<Figure size 432x288 with 1 Axes>"
      ]
     },
     "metadata": {
      "needs_background": "light"
     },
     "output_type": "display_data"
    }
   ],
   "source": [
    "state_log_df.hist(column=\"normalised_time_since_last_action\")"
   ]
  },
  {
   "cell_type": "code",
   "execution_count": 19,
   "metadata": {},
   "outputs": [
    {
     "data": {
      "text/plain": [
       "array([[<matplotlib.axes._subplots.AxesSubplot object at 0x7f1df37b1bd0>]],\n",
       "      dtype=object)"
      ]
     },
     "execution_count": 19,
     "metadata": {},
     "output_type": "execute_result"
    },
    {
     "data": {
      "image/png": "[encoded data removed]",
      "text/plain": [
       "<Figure size 432x288 with 1 Axes>"
      ]
     },
     "metadata": {
      "needs_background": "light"
     },
     "output_type": "display_data"
    }
   ],
   "source": [
    "state_log_df.hist(column=\"relative_heart_rate\")"
   ]
  },
  {
   "cell_type": "code",
   "execution_count": 20,
   "metadata": {},
   "outputs": [
    {
     "data": {
      "text/plain": [
       "array([[<matplotlib.axes._subplots.AxesSubplot object at 0x7f1df37616d0>]],\n",
       "      dtype=object)"
      ]
     },
     "execution_count": 20,
     "metadata": {},
     "output_type": "execute_result"
    },
    {
     "data": {
      "image/png": "[encoded data removed]",
      "text/plain": [
       "<Figure size 432x288 with 1 Axes>"
      ]
     },
     "metadata": {
      "needs_background": "light"
     },
     "output_type": "display_data"
    }
   ],
   "source": [
    "state_log_df.hist(column=\"au12\")"
   ]
  },
  {
   "cell_type": "code",
   "execution_count": 23,
   "metadata": {},
   "outputs": [
    {
     "data": {
      "text/plain": [
       "array([[<matplotlib.axes._subplots.AxesSubplot object at 0x7f1df3622810>]],\n",
       "      dtype=object)"
      ]
     },
     "execution_count": 23,
     "metadata": {},
     "output_type": "execute_result"
    },
    {
     "data": {
      "image/png": "[encoded data removed]",
      "text/plain": [
       "<Figure size 432x288 with 1 Axes>"
      ]
     },
     "metadata": {
      "needs_background": "light"
     },
     "output_type": "display_data"
    }
   ],
   "source": [
    "state_log_df.hist(column=\"au25\")"
   ]
  },
  {
   "cell_type": "code",
   "execution_count": 24,
   "metadata": {},
   "outputs": [
    {
     "data": {
      "text/plain": [
       "array([[<matplotlib.axes._subplots.AxesSubplot object at 0x7f1df0c3a950>]],\n",
       "      dtype=object)"
      ]
     },
     "execution_count": 24,
     "metadata": {},
     "output_type": "execute_result"
    },
    {
     "data": {
      "image/png": "[encoded data removed]",
      "text/plain": [
       "<Figure size 432x288 with 1 Axes>"
      ]
     },
     "metadata": {
      "needs_background": "light"
     },
     "output_type": "display_data"
    }
   ],
   "source": [
    "state_log_df.hist(column=\"mood\")"
   ]
  },
  {
   "cell_type": "markdown",
   "metadata": {},
   "source": [
    "# Looking at Style Suggestion Acceptance"
   ]
  },
  {
   "cell_type": "code",
   "execution_count": 27,
   "metadata": {},
   "outputs": [
    {
     "data": {
      "text/html": [
       "<div>\n",
       "<style scoped>\n",
       "    .dataframe tbody tr th:only-of-type {\n",
       "        vertical-align: middle;\n",
       "    }\n",
       "\n",
       "    .dataframe tbody tr th {\n",
       "        vertical-align: top;\n",
       "    }\n",
       "\n",
       "    .dataframe thead th {\n",
       "        text-align: right;\n",
       "    }\n",
       "</style>\n",
       "<table border=\"1\" class=\"dataframe\">\n",
       "  <thead>\n",
       "    <tr style=\"text-align: right;\">\n",
       "      <th></th>\n",
       "      <th>user_id</th>\n",
       "      <th>session_number</th>\n",
       "      <th>action_id</th>\n",
       "      <th>validation_timestamp</th>\n",
       "      <th>validation_state_id</th>\n",
       "      <th>action</th>\n",
       "      <th>style</th>\n",
       "      <th>duration</th>\n",
       "      <th>validation</th>\n",
       "      <th>trigger_timestamp</th>\n",
       "      <th>trigger_state_id</th>\n",
       "    </tr>\n",
       "  </thead>\n",
       "  <tbody>\n",
       "    <tr>\n",
       "      <th>0</th>\n",
       "      <td>LB</td>\n",
       "      <td>1</td>\n",
       "      <td>792d8bc8-b72c-4313-894a-cb8f0ac222b6</td>\n",
       "      <td>1.560767e+09</td>\n",
       "      <td>41561163-8e70-4230-884d-cf115350e02c</td>\n",
       "      <td>CHALLENGE</td>\n",
       "      <td>CHALLENGING</td>\n",
       "      <td>0</td>\n",
       "      <td>CONTROL</td>\n",
       "      <td>1.560767e+09</td>\n",
       "      <td>41561163-8e70-4230-884d-cf115350e02c</td>\n",
       "    </tr>\n",
       "    <tr>\n",
       "      <th>1</th>\n",
       "      <td>LB</td>\n",
       "      <td>1</td>\n",
       "      <td>c94f909e-df01-4515-9a22-65dbbe6530fc</td>\n",
       "      <td>1.560767e+09</td>\n",
       "      <td>a32eaf99-3c9c-4a2e-9c24-518caff59b1b</td>\n",
       "      <td>WALK</td>\n",
       "      <td>NEUTRAL</td>\n",
       "      <td>90</td>\n",
       "      <td>CONTROL</td>\n",
       "      <td>1.560767e+09</td>\n",
       "      <td>e1931b02-0f42-4ff1-a446-940e2904d5cc</td>\n",
       "    </tr>\n",
       "    <tr>\n",
       "      <th>2</th>\n",
       "      <td>LB</td>\n",
       "      <td>1</td>\n",
       "      <td>3998533e-7c93-4c29-a1ef-403c2b4559f7</td>\n",
       "      <td>1.560767e+09</td>\n",
       "      <td>e9293e07-7c15-47c4-906c-4ff8822ef975</td>\n",
       "      <td>MAINTAIN</td>\n",
       "      <td>POSITIVE</td>\n",
       "      <td>0</td>\n",
       "      <td>CONTROL</td>\n",
       "      <td>1.560767e+09</td>\n",
       "      <td>2861fc9d-eada-4cf7-9d7d-b5a1eb9d46a8</td>\n",
       "    </tr>\n",
       "    <tr>\n",
       "      <th>3</th>\n",
       "      <td>LB</td>\n",
       "      <td>1</td>\n",
       "      <td>221236a8-14ee-47a1-b0e1-6a014bc317aa</td>\n",
       "      <td>1.560767e+09</td>\n",
       "      <td>37a75017-2649-4e44-a4fa-2b4cbace3138</td>\n",
       "      <td>MAINTAIN</td>\n",
       "      <td>POSITIVE</td>\n",
       "      <td>0</td>\n",
       "      <td>CONTROL</td>\n",
       "      <td>1.560767e+09</td>\n",
       "      <td>37a75017-2649-4e44-a4fa-2b4cbace3138</td>\n",
       "    </tr>\n",
       "    <tr>\n",
       "      <th>4</th>\n",
       "      <td>LB</td>\n",
       "      <td>1</td>\n",
       "      <td>4dc77247-5efc-4689-9e2c-9bd22c40eb01</td>\n",
       "      <td>1.560767e+09</td>\n",
       "      <td>501f00c6-bbea-4264-b812-058273bc1103</td>\n",
       "      <td>RUN</td>\n",
       "      <td>NEUTRAL</td>\n",
       "      <td>60</td>\n",
       "      <td>CONTROL</td>\n",
       "      <td>1.560767e+09</td>\n",
       "      <td>f7cda050-e7d0-442f-9d57-f8f955ed089c</td>\n",
       "    </tr>\n",
       "  </tbody>\n",
       "</table>\n",
       "</div>"
      ],
      "text/plain": [
       "  user_id  session_number                             action_id  \\\n",
       "0      LB               1  792d8bc8-b72c-4313-894a-cb8f0ac222b6   \n",
       "1      LB               1  c94f909e-df01-4515-9a22-65dbbe6530fc   \n",
       "2      LB               1  3998533e-7c93-4c29-a1ef-403c2b4559f7   \n",
       "3      LB               1  221236a8-14ee-47a1-b0e1-6a014bc317aa   \n",
       "4      LB               1  4dc77247-5efc-4689-9e2c-9bd22c40eb01   \n",
       "\n",
       "   validation_timestamp                   validation_state_id     action  \\\n",
       "0          1.560767e+09  41561163-8e70-4230-884d-cf115350e02c  CHALLENGE   \n",
       "1          1.560767e+09  a32eaf99-3c9c-4a2e-9c24-518caff59b1b       WALK   \n",
       "2          1.560767e+09  e9293e07-7c15-47c4-906c-4ff8822ef975   MAINTAIN   \n",
       "3          1.560767e+09  37a75017-2649-4e44-a4fa-2b4cbace3138   MAINTAIN   \n",
       "4          1.560767e+09  501f00c6-bbea-4264-b812-058273bc1103        RUN   \n",
       "\n",
       "         style  duration validation  trigger_timestamp  \\\n",
       "0  CHALLENGING         0    CONTROL       1.560767e+09   \n",
       "1      NEUTRAL        90    CONTROL       1.560767e+09   \n",
       "2     POSITIVE         0    CONTROL       1.560767e+09   \n",
       "3     POSITIVE         0    CONTROL       1.560767e+09   \n",
       "4      NEUTRAL        60    CONTROL       1.560767e+09   \n",
       "\n",
       "                       trigger_state_id  \n",
       "0  41561163-8e70-4230-884d-cf115350e02c  \n",
       "1  e1931b02-0f42-4ff1-a446-940e2904d5cc  \n",
       "2  2861fc9d-eada-4cf7-9d7d-b5a1eb9d46a8  \n",
       "3  37a75017-2649-4e44-a4fa-2b4cbace3138  \n",
       "4  f7cda050-e7d0-442f-9d57-f8f955ed089c  "
      ]
     },
     "execution_count": 27,
     "metadata": {},
     "output_type": "execute_result"
    }
   ],
   "source": [
    "action_log_df = pd.read_csv('action_logger.csv', names=['user_id','session_number','action_id','validation_timestamp','validation_state_id',\\\n",
    "\t'action','style','duration','validation','trigger_timestamp','trigger_state_id'])\n",
    "\n",
    "action_log_df.head()"
   ]
  },
  {
   "cell_type": "code",
   "execution_count": 48,
   "metadata": {},
   "outputs": [
    {
     "data": {
      "text/html": [
       "<div>\n",
       "<style scoped>\n",
       "    .dataframe tbody tr th:only-of-type {\n",
       "        vertical-align: middle;\n",
       "    }\n",
       "\n",
       "    .dataframe tbody tr th {\n",
       "        vertical-align: top;\n",
       "    }\n",
       "\n",
       "    .dataframe thead th {\n",
       "        text-align: right;\n",
       "    }\n",
       "</style>\n",
       "<table border=\"1\" class=\"dataframe\">\n",
       "  <thead>\n",
       "    <tr style=\"text-align: right;\">\n",
       "      <th></th>\n",
       "      <th>user_id</th>\n",
       "      <th>session_number</th>\n",
       "      <th>action_id</th>\n",
       "      <th>validation_timestamp</th>\n",
       "      <th>validation_state_id</th>\n",
       "      <th>action</th>\n",
       "      <th>style</th>\n",
       "      <th>duration</th>\n",
       "      <th>validation</th>\n",
       "      <th>trigger_timestamp</th>\n",
       "      <th>trigger_state_id</th>\n",
       "    </tr>\n",
       "  </thead>\n",
       "  <tbody>\n",
       "    <tr>\n",
       "      <th>94</th>\n",
       "      <td>JW</td>\n",
       "      <td>1</td>\n",
       "      <td>1bd83abb-51d2-4bf5-b338-e33e4c15235f</td>\n",
       "      <td>1.560785e+09</td>\n",
       "      <td>a79ad9cd-3285-424c-ab24-a554201929d8</td>\n",
       "      <td>WALK</td>\n",
       "      <td>SYMPATHETIC</td>\n",
       "      <td>90</td>\n",
       "      <td>VALIDATED</td>\n",
       "      <td>1.560785e+09</td>\n",
       "      <td>abc72f23-c53a-44c1-bd3c-602ccc14686a</td>\n",
       "    </tr>\n",
       "    <tr>\n",
       "      <th>159</th>\n",
       "      <td>FB</td>\n",
       "      <td>2</td>\n",
       "      <td>bf6e1641-3427-41cf-b0d0-64588eb601b0</td>\n",
       "      <td>1.560859e+09</td>\n",
       "      <td>64a312d1-4fad-45cd-b0fd-52a4dcf65ffd</td>\n",
       "      <td>WALK</td>\n",
       "      <td>POSITIVE</td>\n",
       "      <td>90</td>\n",
       "      <td>VALIDATED</td>\n",
       "      <td>1.560859e+09</td>\n",
       "      <td>2f195b67-ea72-49ce-bf74-5e598a3289a8</td>\n",
       "    </tr>\n",
       "    <tr>\n",
       "      <th>165</th>\n",
       "      <td>FB</td>\n",
       "      <td>2</td>\n",
       "      <td>cef285b9-3205-4f16-a254-2bdcf93d006d</td>\n",
       "      <td>1.560859e+09</td>\n",
       "      <td>a728d81e-b620-4c6b-9e2b-a093ec9aa100</td>\n",
       "      <td>RUN</td>\n",
       "      <td>POSITIVE</td>\n",
       "      <td>60</td>\n",
       "      <td>REFUSED</td>\n",
       "      <td>1.560859e+09</td>\n",
       "      <td>741b7cbb-3250-4f14-b297-6ebe286a1d89</td>\n",
       "    </tr>\n",
       "    <tr>\n",
       "      <th>167</th>\n",
       "      <td>FB</td>\n",
       "      <td>2</td>\n",
       "      <td>cef285b9-3205-4f16-a254-2bdcf93d006d</td>\n",
       "      <td>1.560859e+09</td>\n",
       "      <td>fe8cc9f8-88a3-4d58-979a-6dba2c997e0b</td>\n",
       "      <td>RUN</td>\n",
       "      <td>CHALLENGING</td>\n",
       "      <td>60</td>\n",
       "      <td>PASSIVE_ACCEPTED</td>\n",
       "      <td>1.560859e+09</td>\n",
       "      <td>741b7cbb-3250-4f14-b297-6ebe286a1d89</td>\n",
       "    </tr>\n",
       "    <tr>\n",
       "      <th>171</th>\n",
       "      <td>FB</td>\n",
       "      <td>2</td>\n",
       "      <td>af5b70dc-809b-445f-a9e5-589d3adf7b50</td>\n",
       "      <td>1.560859e+09</td>\n",
       "      <td>f3710095-c81f-4608-bec8-8481e40280e3</td>\n",
       "      <td>WALK</td>\n",
       "      <td>POSITIVE</td>\n",
       "      <td>90</td>\n",
       "      <td>VALIDATED</td>\n",
       "      <td>1.560859e+09</td>\n",
       "      <td>61880163-ca03-4521-b06a-84bf3eb22769</td>\n",
       "    </tr>\n",
       "  </tbody>\n",
       "</table>\n",
       "</div>"
      ],
      "text/plain": [
       "    user_id  session_number                             action_id  \\\n",
       "94       JW               1  1bd83abb-51d2-4bf5-b338-e33e4c15235f   \n",
       "159      FB               2  bf6e1641-3427-41cf-b0d0-64588eb601b0   \n",
       "165      FB               2  cef285b9-3205-4f16-a254-2bdcf93d006d   \n",
       "167      FB               2  cef285b9-3205-4f16-a254-2bdcf93d006d   \n",
       "171      FB               2  af5b70dc-809b-445f-a9e5-589d3adf7b50   \n",
       "\n",
       "     validation_timestamp                   validation_state_id action  \\\n",
       "94           1.560785e+09  a79ad9cd-3285-424c-ab24-a554201929d8   WALK   \n",
       "159          1.560859e+09  64a312d1-4fad-45cd-b0fd-52a4dcf65ffd   WALK   \n",
       "165          1.560859e+09  a728d81e-b620-4c6b-9e2b-a093ec9aa100    RUN   \n",
       "167          1.560859e+09  fe8cc9f8-88a3-4d58-979a-6dba2c997e0b    RUN   \n",
       "171          1.560859e+09  f3710095-c81f-4608-bec8-8481e40280e3   WALK   \n",
       "\n",
       "           style  duration        validation  trigger_timestamp  \\\n",
       "94   SYMPATHETIC        90         VALIDATED       1.560785e+09   \n",
       "159     POSITIVE        90         VALIDATED       1.560859e+09   \n",
       "165     POSITIVE        60           REFUSED       1.560859e+09   \n",
       "167  CHALLENGING        60  PASSIVE_ACCEPTED       1.560859e+09   \n",
       "171     POSITIVE        90         VALIDATED       1.560859e+09   \n",
       "\n",
       "                         trigger_state_id  \n",
       "94   abc72f23-c53a-44c1-bd3c-602ccc14686a  \n",
       "159  2f195b67-ea72-49ce-bf74-5e598a3289a8  \n",
       "165  741b7cbb-3250-4f14-b297-6ebe286a1d89  \n",
       "167  741b7cbb-3250-4f14-b297-6ebe286a1d89  \n",
       "171  61880163-ca03-4521-b06a-84bf3eb22769  "
      ]
     },
     "execution_count": 48,
     "metadata": {},
     "output_type": "execute_result"
    }
   ],
   "source": [
    "relevant_actions = action_log_df[((action_log_df['action'] == \"RUN\") | (action_log_df['action'] == \"WALK\")) &  (action_log_df['validation'] != \"CONTROL\")]\n",
    "\n",
    "relevant_actions.head()"
   ]
  },
  {
   "cell_type": "code",
   "execution_count": 51,
   "metadata": {},
   "outputs": [
    {
     "data": {
      "text/plain": [
       "<matplotlib.axes._subplots.AxesSubplot at 0x7f1df3bccbd0>"
      ]
     },
     "execution_count": 51,
     "metadata": {},
     "output_type": "execute_result"
    },
    {
     "data": {
      "image/png": "[encoded data removed]",
      "text/plain": [
       "<Figure size 432x288 with 1 Axes>"
      ]
     },
     "metadata": {
      "needs_background": "light"
     },
     "output_type": "display_data"
    }
   ],
   "source": [
    "validated_actions = relevant_actions[(relevant_actions['validation'] == \"VALIDATED\")]\n",
    "validated_actions.groupby('validation').cumcount().plot()\n",
    "#would be good to plot these cumulative counts per participant too (to avoid mixing up people who are more/less well known by Don + system)\n",
    "\n"
   ]
  },
  {
   "cell_type": "code",
   "execution_count": 52,
   "metadata": {},
   "outputs": [
    {
     "ename": "TypeError",
     "evalue": "Empty 'DataFrame': no numeric data to plot",
     "output_type": "error",
     "traceback": [
      "\u001b[0;31m---------------------------------------------------------------------------\u001b[0m",
      "\u001b[0;31mTypeError\u001b[0m                                 Traceback (most recent call last)",
      "\u001b[0;32m<ipython-input-52-1f402fad0161>\u001b[0m in \u001b[0;36m<module>\u001b[0;34m()\u001b[0m\n\u001b[1;32m      1\u001b[0m \u001b[0mrelevant_actions\u001b[0m \u001b[0;34m=\u001b[0m \u001b[0mrelevant_actions\u001b[0m\u001b[0;34m[\u001b[0m\u001b[0;34m(\u001b[0m\u001b[0mrelevant_actions\u001b[0m\u001b[0;34m[\u001b[0m\u001b[0;34m'validation'\u001b[0m\u001b[0;34m]\u001b[0m \u001b[0;34m==\u001b[0m \u001b[0;34m\"REFUSED\"\u001b[0m\u001b[0;34m)\u001b[0m\u001b[0;34m]\u001b[0m\u001b[0;34m\u001b[0m\u001b[0m\n\u001b[0;32m----> 2\u001b[0;31m \u001b[0mrelevant_actions\u001b[0m\u001b[0;34m.\u001b[0m\u001b[0mgroupby\u001b[0m\u001b[0;34m(\u001b[0m\u001b[0;34m'validation'\u001b[0m\u001b[0;34m)\u001b[0m\u001b[0;34m.\u001b[0m\u001b[0mcumcount\u001b[0m\u001b[0;34m(\u001b[0m\u001b[0;34m)\u001b[0m\u001b[0;34m.\u001b[0m\u001b[0mplot\u001b[0m\u001b[0;34m(\u001b[0m\u001b[0;34m)\u001b[0m\u001b[0;34m\u001b[0m\u001b[0m\n\u001b[0m",
      "\u001b[0;32m/usr/local/lib/python2.7/dist-packages/pandas/plotting/_core.pyc\u001b[0m in \u001b[0;36m__call__\u001b[0;34m(self, kind, ax, figsize, use_index, title, grid, legend, style, logx, logy, loglog, xticks, yticks, xlim, ylim, rot, fontsize, colormap, table, yerr, xerr, label, secondary_y, **kwds)\u001b[0m\n\u001b[1;32m   2740\u001b[0m                            \u001b[0mcolormap\u001b[0m\u001b[0;34m=\u001b[0m\u001b[0mcolormap\u001b[0m\u001b[0;34m,\u001b[0m \u001b[0mtable\u001b[0m\u001b[0;34m=\u001b[0m\u001b[0mtable\u001b[0m\u001b[0;34m,\u001b[0m \u001b[0myerr\u001b[0m\u001b[0;34m=\u001b[0m\u001b[0myerr\u001b[0m\u001b[0;34m,\u001b[0m\u001b[0;34m\u001b[0m\u001b[0m\n\u001b[1;32m   2741\u001b[0m                            \u001b[0mxerr\u001b[0m\u001b[0;34m=\u001b[0m\u001b[0mxerr\u001b[0m\u001b[0;34m,\u001b[0m \u001b[0mlabel\u001b[0m\u001b[0;34m=\u001b[0m\u001b[0mlabel\u001b[0m\u001b[0;34m,\u001b[0m \u001b[0msecondary_y\u001b[0m\u001b[0;34m=\u001b[0m\u001b[0msecondary_y\u001b[0m\u001b[0;34m,\u001b[0m\u001b[0;34m\u001b[0m\u001b[0m\n\u001b[0;32m-> 2742\u001b[0;31m                            **kwds)\n\u001b[0m\u001b[1;32m   2743\u001b[0m     \u001b[0m__call__\u001b[0m\u001b[0;34m.\u001b[0m\u001b[0m__doc__\u001b[0m \u001b[0;34m=\u001b[0m \u001b[0mplot_series\u001b[0m\u001b[0;34m.\u001b[0m\u001b[0m__doc__\u001b[0m\u001b[0;34m\u001b[0m\u001b[0m\n\u001b[1;32m   2744\u001b[0m \u001b[0;34m\u001b[0m\u001b[0m\n",
      "\u001b[0;32m/usr/local/lib/python2.7/dist-packages/pandas/plotting/_core.pyc\u001b[0m in \u001b[0;36mplot_series\u001b[0;34m(data, kind, ax, figsize, use_index, title, grid, legend, style, logx, logy, loglog, xticks, yticks, xlim, ylim, rot, fontsize, colormap, table, yerr, xerr, label, secondary_y, **kwds)\u001b[0m\n\u001b[1;32m   1996\u001b[0m                  \u001b[0myerr\u001b[0m\u001b[0;34m=\u001b[0m\u001b[0myerr\u001b[0m\u001b[0;34m,\u001b[0m \u001b[0mxerr\u001b[0m\u001b[0;34m=\u001b[0m\u001b[0mxerr\u001b[0m\u001b[0;34m,\u001b[0m\u001b[0;34m\u001b[0m\u001b[0m\n\u001b[1;32m   1997\u001b[0m                  \u001b[0mlabel\u001b[0m\u001b[0;34m=\u001b[0m\u001b[0mlabel\u001b[0m\u001b[0;34m,\u001b[0m \u001b[0msecondary_y\u001b[0m\u001b[0;34m=\u001b[0m\u001b[0msecondary_y\u001b[0m\u001b[0;34m,\u001b[0m\u001b[0;34m\u001b[0m\u001b[0m\n\u001b[0;32m-> 1998\u001b[0;31m                  **kwds)\n\u001b[0m\u001b[1;32m   1999\u001b[0m \u001b[0;34m\u001b[0m\u001b[0m\n\u001b[1;32m   2000\u001b[0m \u001b[0;34m\u001b[0m\u001b[0m\n",
      "\u001b[0;32m/usr/local/lib/python2.7/dist-packages/pandas/plotting/_core.pyc\u001b[0m in \u001b[0;36m_plot\u001b[0;34m(data, x, y, subplots, ax, kind, **kwds)\u001b[0m\n\u001b[1;32m   1799\u001b[0m         \u001b[0mplot_obj\u001b[0m \u001b[0;34m=\u001b[0m \u001b[0mklass\u001b[0m\u001b[0;34m(\u001b[0m\u001b[0mdata\u001b[0m\u001b[0;34m,\u001b[0m \u001b[0msubplots\u001b[0m\u001b[0;34m=\u001b[0m\u001b[0msubplots\u001b[0m\u001b[0;34m,\u001b[0m \u001b[0max\u001b[0m\u001b[0;34m=\u001b[0m\u001b[0max\u001b[0m\u001b[0;34m,\u001b[0m \u001b[0mkind\u001b[0m\u001b[0;34m=\u001b[0m\u001b[0mkind\u001b[0m\u001b[0;34m,\u001b[0m \u001b[0;34m**\u001b[0m\u001b[0mkwds\u001b[0m\u001b[0;34m)\u001b[0m\u001b[0;34m\u001b[0m\u001b[0m\n\u001b[1;32m   1800\u001b[0m \u001b[0;34m\u001b[0m\u001b[0m\n\u001b[0;32m-> 1801\u001b[0;31m     \u001b[0mplot_obj\u001b[0m\u001b[0;34m.\u001b[0m\u001b[0mgenerate\u001b[0m\u001b[0;34m(\u001b[0m\u001b[0;34m)\u001b[0m\u001b[0;34m\u001b[0m\u001b[0m\n\u001b[0m\u001b[1;32m   1802\u001b[0m     \u001b[0mplot_obj\u001b[0m\u001b[0;34m.\u001b[0m\u001b[0mdraw\u001b[0m\u001b[0;34m(\u001b[0m\u001b[0;34m)\u001b[0m\u001b[0;34m\u001b[0m\u001b[0m\n\u001b[1;32m   1803\u001b[0m     \u001b[0;32mreturn\u001b[0m \u001b[0mplot_obj\u001b[0m\u001b[0;34m.\u001b[0m\u001b[0mresult\u001b[0m\u001b[0;34m\u001b[0m\u001b[0m\n",
      "\u001b[0;32m/usr/local/lib/python2.7/dist-packages/pandas/plotting/_core.pyc\u001b[0m in \u001b[0;36mgenerate\u001b[0;34m(self)\u001b[0m\n\u001b[1;32m    247\u001b[0m     \u001b[0;32mdef\u001b[0m \u001b[0mgenerate\u001b[0m\u001b[0;34m(\u001b[0m\u001b[0mself\u001b[0m\u001b[0;34m)\u001b[0m\u001b[0;34m:\u001b[0m\u001b[0;34m\u001b[0m\u001b[0m\n\u001b[1;32m    248\u001b[0m         \u001b[0mself\u001b[0m\u001b[0;34m.\u001b[0m\u001b[0m_args_adjust\u001b[0m\u001b[0;34m(\u001b[0m\u001b[0;34m)\u001b[0m\u001b[0;34m\u001b[0m\u001b[0m\n\u001b[0;32m--> 249\u001b[0;31m         \u001b[0mself\u001b[0m\u001b[0;34m.\u001b[0m\u001b[0m_compute_plot_data\u001b[0m\u001b[0;34m(\u001b[0m\u001b[0;34m)\u001b[0m\u001b[0;34m\u001b[0m\u001b[0m\n\u001b[0m\u001b[1;32m    250\u001b[0m         \u001b[0mself\u001b[0m\u001b[0;34m.\u001b[0m\u001b[0m_setup_subplots\u001b[0m\u001b[0;34m(\u001b[0m\u001b[0;34m)\u001b[0m\u001b[0;34m\u001b[0m\u001b[0m\n\u001b[1;32m    251\u001b[0m         \u001b[0mself\u001b[0m\u001b[0;34m.\u001b[0m\u001b[0m_make_plot\u001b[0m\u001b[0;34m(\u001b[0m\u001b[0;34m)\u001b[0m\u001b[0;34m\u001b[0m\u001b[0m\n",
      "\u001b[0;32m/usr/local/lib/python2.7/dist-packages/pandas/plotting/_core.pyc\u001b[0m in \u001b[0;36m_compute_plot_data\u001b[0;34m(self)\u001b[0m\n\u001b[1;32m    365\u001b[0m         \u001b[0;32mif\u001b[0m \u001b[0mis_empty\u001b[0m\u001b[0;34m:\u001b[0m\u001b[0;34m\u001b[0m\u001b[0m\n\u001b[1;32m    366\u001b[0m             raise TypeError('Empty {0!r}: no numeric data to '\n\u001b[0;32m--> 367\u001b[0;31m                             'plot'.format(numeric_data.__class__.__name__))\n\u001b[0m\u001b[1;32m    368\u001b[0m \u001b[0;34m\u001b[0m\u001b[0m\n\u001b[1;32m    369\u001b[0m         \u001b[0mself\u001b[0m\u001b[0;34m.\u001b[0m\u001b[0mdata\u001b[0m \u001b[0;34m=\u001b[0m \u001b[0mnumeric_data\u001b[0m\u001b[0;34m\u001b[0m\u001b[0m\n",
      "\u001b[0;31mTypeError\u001b[0m: Empty 'DataFrame': no numeric data to plot"
     ]
    }
   ],
   "source": [
    "refused_actions = relevant_actions[(relevant_actions['validation'] == \"REFUSED\")]\n",
    "refused_actions.groupby('validation').cumcount().plot()"
   ]
  }
 ],
 "metadata": {
  "kernelspec": {
   "display_name": "Python 2",
   "language": "python",
   "name": "python2"
  },
  "language_info": {
   "codemirror_mode": {
    "name": "ipython",
    "version": 2
   },
   "file_extension": ".py",
   "mimetype": "text/x-python",
   "name": "python",
   "nbconvert_exporter": "python",
   "pygments_lexer": "ipython2",
   "version": "2.7.15rc1"
  }
 },
 "nbformat": 4,
 "nbformat_minor": 2
}
