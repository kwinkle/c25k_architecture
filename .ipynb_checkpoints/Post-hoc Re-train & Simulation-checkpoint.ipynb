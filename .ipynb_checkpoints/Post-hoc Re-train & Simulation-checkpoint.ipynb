{
 "cells": [
  {
   "cell_type": "code",
   "execution_count": null,
   "metadata": {},
   "outputs": [],
   "source": [
    "import pandas as pd\n",
    "import numpy as np\n",
    "import csv\n"
   ]
  },
  {
   "cell_type": "code",
   "execution_count": null,
   "metadata": {},
   "outputs": [],
   "source": [
    "# identify split of training-testing data\n",
    "# supervised actions were collected for each participant as follows; *=blacklisted session:\n",
    "# LB: 1,2,3,4,5,6,7,8,9*,10,11,12,13,14,15,16,17,18,19,[20],21...22 = 21 sessions for train/test\n",
    "# FB: 1,2,3,4,5,6,8,9,10,11,12,13,14,15,16,17,18,19,20,21 = 20 sessions for train/test\n",
    "# DB: 1,2,3,4,5,6,7,9,10,11,12,13,14,15,15,16...[17,18] = 16 [17] sessions for train/test\n",
    "# JF: 1,2,3,4,6,7,8,9,10,11,12,13,14,15,16,17,18,19,20,21,22 = 21 sessions for train/test\n",
    "# MR: 1,2,3*,4,5,6,7,8,9,10,11,12,13,14,15,16...[17,18] = 15 [17] sessions for train/test\n",
    "# DP: 1,2,3,4,6,7,8,9,10,11,12,13,14,15,16,17,18,19,20,21,24 = 21 sessions for train/test\n",
    "# JW: 1*,2*,4,5,6,7,8,9,10,11,12,13,16,17,20,21,22 = 15 sessions for train/test\n",
    "# GB: 1,2,3,4,6,7,8,9,10,11,12,13,14,15,16,17,18,19,20,21,23 = 21 sessions for train/test\n",
    "# MB: 1,2,3*,4,5,6,8,9,10,12,13,14 = 11 sessions for train/test\n",
    "# PT: 1,2,3,4,5,7,8,9,10,11,12,13,14,15,16,17,18 = 17 sessions for train/test\n",
    "\n",
    "# manually selected ~70:30 split per participant covering both mixed & full run sessions from session 10+\n",
    "training = {\n",
    "    \"LB\": [],\n",
    "    \"FB\": [],\n",
    "    \"DB\": [],\n",
    "    \"JF\": [],\n",
    "    \"MR\": [],\n",
    "    \"DP\": [],\n",
    "    \"JW\": [],\n",
    "    \"GB\": [],\n",
    "    \"MB\": [],\n",
    "    \"PT\": []\n",
    "}\n",
    "\n",
    "testing = {\n",
    "    \"LB\": [],\n",
    "    \"FB\": [],\n",
    "    \"DB\": [],\n",
    "    \"JF\": [],\n",
    "    \"MR\": [],\n",
    "    \"DP\": [],\n",
    "    \"JW\": [],\n",
    "    \"GB\": [],\n",
    "    \"MB\": [],\n",
    "    \"PT\": []\n",
    "}"
   ]
  }
 ],
 "metadata": {
  "kernelspec": {
   "display_name": "Python 3",
   "language": "python",
   "name": "python3"
  },
  "language_info": {
   "codemirror_mode": {
    "name": "ipython",
    "version": 3
   },
   "file_extension": ".py",
   "mimetype": "text/x-python",
   "name": "python",
   "nbconvert_exporter": "python",
   "pygments_lexer": "ipython3",
   "version": "3.6.8"
  }
 },
 "nbformat": 4,
 "nbformat_minor": 2
}
